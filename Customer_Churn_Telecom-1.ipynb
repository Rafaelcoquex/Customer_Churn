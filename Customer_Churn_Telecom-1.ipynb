{
 "cells": [
  {
   "cell_type": "markdown",
   "metadata": {},
   "source": [
    "# Customer Churn previsions"
   ]
  },
  {
   "cell_type": "code",
   "execution_count": 4,
   "metadata": {},
   "outputs": [
    {
     "name": "stderr",
     "output_type": "stream",
     "text": [
      "C:\\Anaconda3\\lib\\site-packages\\statsmodels\\tools\\_testing.py:19: FutureWarning: pandas.util.testing is deprecated. Use the functions in the public API at pandas.testing instead.\n",
      "  import pandas.util.testing as tm\n"
     ]
    }
   ],
   "source": [
    "# Import packages\n",
    "import pandas as pd\n",
    "import numpy as np\n",
    "import matplotlib.pyplot as plt\n",
    "from sklearn.linear_model import LogisticRegression\n",
    "from sklearn.tree import DecisionTreeClassifier\n",
    "from sklearn.ensemble import ExtraTreesClassifier\n",
    "from sklearn.ensemble import BaggingClassifier\n",
    "from sklearn.ensemble import RandomForestClassifier\n",
    "from sklearn.ensemble import GradientBoostingClassifier\n",
    "from xgboost import XGBClassifier\n",
    "from sklearn.ensemble import AdaBoostClassifier\n",
    "from sklearn.model_selection import cross_val_score\n",
    "from sklearn.preprocessing import LabelEncoder\n",
    "import seaborn as sns\n",
    "from sklearn.model_selection import KFold\n",
    "import warnings\n",
    "warnings.filterwarnings(\"ignore\")"
   ]
  },
  {
   "cell_type": "code",
   "execution_count": 44,
   "metadata": {},
   "outputs": [],
   "source": [
    "#Import Train dataset\n",
    "df_train = pd.read_csv('projeto4_telecom_treino.csv')\n",
    "df_train = df_train.iloc[:,1:]\n",
    "df_train['type'] = \"train\"\n",
    "\n",
    "#Import Test dataset\n",
    "df_test = pd.read_csv('projeto4_telecom_teste.csv')\n",
    "df_test = df_test.iloc[:,1:]\n",
    "df_test['type'] = \"test\"\n",
    "\n",
    "#Concatanate Train and Test data\n",
    "df = pd.concat([df_train, df_test])"
   ]
  },
  {
   "cell_type": "markdown",
   "metadata": {},
   "source": [
    "### Exploratory Train Data Analysis"
   ]
  },
  {
   "cell_type": "code",
   "execution_count": 49,
   "metadata": {},
   "outputs": [
    {
     "data": {
      "text/plain": [
       "state                            0\n",
       "account_length                   0\n",
       "area_code                        0\n",
       "international_plan               0\n",
       "voice_mail_plan                  0\n",
       "number_vmail_messages            0\n",
       "total_day_minutes                0\n",
       "total_day_calls                  0\n",
       "total_day_charge                 0\n",
       "total_eve_minutes                0\n",
       "total_eve_calls                  0\n",
       "total_eve_charge                 0\n",
       "total_night_minutes              0\n",
       "total_night_calls                0\n",
       "total_night_charge               0\n",
       "total_intl_minutes               0\n",
       "total_intl_calls                 0\n",
       "total_intl_charge                0\n",
       "number_customer_service_calls    0\n",
       "churn                            0\n",
       "type                             0\n",
       "dtype: int64"
      ]
     },
     "execution_count": 49,
     "metadata": {},
     "output_type": "execute_result"
    }
   ],
   "source": [
    "# Evaluate missing values in the dataset\n",
    "df.isna().sum()"
   ]
  },
  {
   "cell_type": "code",
   "execution_count": 50,
   "metadata": {},
   "outputs": [
    {
     "data": {
      "text/plain": [
       "state                              51\n",
       "account_length                    218\n",
       "area_code                           3\n",
       "international_plan                  2\n",
       "voice_mail_plan                     2\n",
       "number_vmail_messages              48\n",
       "total_day_minutes                1961\n",
       "total_day_calls                   123\n",
       "total_day_charge                 1961\n",
       "total_eve_minutes                1879\n",
       "total_eve_calls                   126\n",
       "total_eve_charge                 1659\n",
       "total_night_minutes              1853\n",
       "total_night_calls                 131\n",
       "total_night_charge               1028\n",
       "total_intl_minutes                170\n",
       "total_intl_calls                   21\n",
       "total_intl_charge                 170\n",
       "number_customer_service_calls      10\n",
       "churn                               2\n",
       "type                                2\n",
       "dtype: int64"
      ]
     },
     "execution_count": 50,
     "metadata": {},
     "output_type": "execute_result"
    }
   ],
   "source": [
    "# Evaluate the number of unique elements in the dataset\n",
    "df.nunique()"
   ]
  },
  {
   "cell_type": "code",
   "execution_count": 51,
   "metadata": {},
   "outputs": [
    {
     "data": {
      "text/html": [
       "<div>\n",
       "<style scoped>\n",
       "    .dataframe tbody tr th:only-of-type {\n",
       "        vertical-align: middle;\n",
       "    }\n",
       "\n",
       "    .dataframe tbody tr th {\n",
       "        vertical-align: top;\n",
       "    }\n",
       "\n",
       "    .dataframe thead th {\n",
       "        text-align: right;\n",
       "    }\n",
       "</style>\n",
       "<table border=\"1\" class=\"dataframe\">\n",
       "  <thead>\n",
       "    <tr style=\"text-align: right;\">\n",
       "      <th></th>\n",
       "      <th>account_length</th>\n",
       "      <th>number_vmail_messages</th>\n",
       "      <th>total_day_minutes</th>\n",
       "      <th>total_day_calls</th>\n",
       "      <th>total_day_charge</th>\n",
       "      <th>total_eve_minutes</th>\n",
       "      <th>total_eve_calls</th>\n",
       "      <th>total_eve_charge</th>\n",
       "      <th>total_night_minutes</th>\n",
       "      <th>total_night_calls</th>\n",
       "      <th>total_night_charge</th>\n",
       "      <th>total_intl_minutes</th>\n",
       "      <th>total_intl_calls</th>\n",
       "      <th>total_intl_charge</th>\n",
       "      <th>number_customer_service_calls</th>\n",
       "    </tr>\n",
       "  </thead>\n",
       "  <tbody>\n",
       "    <tr>\n",
       "      <th>count</th>\n",
       "      <td>5000.00000</td>\n",
       "      <td>5000.000000</td>\n",
       "      <td>5000.000000</td>\n",
       "      <td>5000.000000</td>\n",
       "      <td>5000.000000</td>\n",
       "      <td>5000.000000</td>\n",
       "      <td>5000.000000</td>\n",
       "      <td>5000.000000</td>\n",
       "      <td>5000.000000</td>\n",
       "      <td>5000.000000</td>\n",
       "      <td>5000.000000</td>\n",
       "      <td>5000.000000</td>\n",
       "      <td>5000.000000</td>\n",
       "      <td>5000.000000</td>\n",
       "      <td>5000.000000</td>\n",
       "    </tr>\n",
       "    <tr>\n",
       "      <th>mean</th>\n",
       "      <td>100.25860</td>\n",
       "      <td>7.755200</td>\n",
       "      <td>180.288900</td>\n",
       "      <td>100.029400</td>\n",
       "      <td>30.649668</td>\n",
       "      <td>200.636560</td>\n",
       "      <td>100.191000</td>\n",
       "      <td>17.054322</td>\n",
       "      <td>200.391620</td>\n",
       "      <td>99.919200</td>\n",
       "      <td>9.017732</td>\n",
       "      <td>10.261780</td>\n",
       "      <td>4.435200</td>\n",
       "      <td>2.771196</td>\n",
       "      <td>1.570400</td>\n",
       "    </tr>\n",
       "    <tr>\n",
       "      <th>std</th>\n",
       "      <td>39.69456</td>\n",
       "      <td>13.546393</td>\n",
       "      <td>53.894699</td>\n",
       "      <td>19.831197</td>\n",
       "      <td>9.162069</td>\n",
       "      <td>50.551309</td>\n",
       "      <td>19.826496</td>\n",
       "      <td>4.296843</td>\n",
       "      <td>50.527789</td>\n",
       "      <td>19.958686</td>\n",
       "      <td>2.273763</td>\n",
       "      <td>2.761396</td>\n",
       "      <td>2.456788</td>\n",
       "      <td>0.745514</td>\n",
       "      <td>1.306363</td>\n",
       "    </tr>\n",
       "    <tr>\n",
       "      <th>min</th>\n",
       "      <td>1.00000</td>\n",
       "      <td>0.000000</td>\n",
       "      <td>0.000000</td>\n",
       "      <td>0.000000</td>\n",
       "      <td>0.000000</td>\n",
       "      <td>0.000000</td>\n",
       "      <td>0.000000</td>\n",
       "      <td>0.000000</td>\n",
       "      <td>0.000000</td>\n",
       "      <td>0.000000</td>\n",
       "      <td>0.000000</td>\n",
       "      <td>0.000000</td>\n",
       "      <td>0.000000</td>\n",
       "      <td>0.000000</td>\n",
       "      <td>0.000000</td>\n",
       "    </tr>\n",
       "    <tr>\n",
       "      <th>25%</th>\n",
       "      <td>73.00000</td>\n",
       "      <td>0.000000</td>\n",
       "      <td>143.700000</td>\n",
       "      <td>87.000000</td>\n",
       "      <td>24.430000</td>\n",
       "      <td>166.375000</td>\n",
       "      <td>87.000000</td>\n",
       "      <td>14.140000</td>\n",
       "      <td>166.900000</td>\n",
       "      <td>87.000000</td>\n",
       "      <td>7.510000</td>\n",
       "      <td>8.500000</td>\n",
       "      <td>3.000000</td>\n",
       "      <td>2.300000</td>\n",
       "      <td>1.000000</td>\n",
       "    </tr>\n",
       "    <tr>\n",
       "      <th>50%</th>\n",
       "      <td>100.00000</td>\n",
       "      <td>0.000000</td>\n",
       "      <td>180.100000</td>\n",
       "      <td>100.000000</td>\n",
       "      <td>30.620000</td>\n",
       "      <td>201.000000</td>\n",
       "      <td>100.000000</td>\n",
       "      <td>17.090000</td>\n",
       "      <td>200.400000</td>\n",
       "      <td>100.000000</td>\n",
       "      <td>9.020000</td>\n",
       "      <td>10.300000</td>\n",
       "      <td>4.000000</td>\n",
       "      <td>2.780000</td>\n",
       "      <td>1.000000</td>\n",
       "    </tr>\n",
       "    <tr>\n",
       "      <th>75%</th>\n",
       "      <td>127.00000</td>\n",
       "      <td>17.000000</td>\n",
       "      <td>216.200000</td>\n",
       "      <td>113.000000</td>\n",
       "      <td>36.750000</td>\n",
       "      <td>234.100000</td>\n",
       "      <td>114.000000</td>\n",
       "      <td>19.900000</td>\n",
       "      <td>234.700000</td>\n",
       "      <td>113.000000</td>\n",
       "      <td>10.560000</td>\n",
       "      <td>12.000000</td>\n",
       "      <td>6.000000</td>\n",
       "      <td>3.240000</td>\n",
       "      <td>2.000000</td>\n",
       "    </tr>\n",
       "    <tr>\n",
       "      <th>max</th>\n",
       "      <td>243.00000</td>\n",
       "      <td>52.000000</td>\n",
       "      <td>351.500000</td>\n",
       "      <td>165.000000</td>\n",
       "      <td>59.760000</td>\n",
       "      <td>363.700000</td>\n",
       "      <td>170.000000</td>\n",
       "      <td>30.910000</td>\n",
       "      <td>395.000000</td>\n",
       "      <td>175.000000</td>\n",
       "      <td>17.770000</td>\n",
       "      <td>20.000000</td>\n",
       "      <td>20.000000</td>\n",
       "      <td>5.400000</td>\n",
       "      <td>9.000000</td>\n",
       "    </tr>\n",
       "  </tbody>\n",
       "</table>\n",
       "</div>"
      ],
      "text/plain": [
       "       account_length  number_vmail_messages  total_day_minutes  \\\n",
       "count      5000.00000            5000.000000        5000.000000   \n",
       "mean        100.25860               7.755200         180.288900   \n",
       "std          39.69456              13.546393          53.894699   \n",
       "min           1.00000               0.000000           0.000000   \n",
       "25%          73.00000               0.000000         143.700000   \n",
       "50%         100.00000               0.000000         180.100000   \n",
       "75%         127.00000              17.000000         216.200000   \n",
       "max         243.00000              52.000000         351.500000   \n",
       "\n",
       "       total_day_calls  total_day_charge  total_eve_minutes  total_eve_calls  \\\n",
       "count      5000.000000       5000.000000        5000.000000      5000.000000   \n",
       "mean        100.029400         30.649668         200.636560       100.191000   \n",
       "std          19.831197          9.162069          50.551309        19.826496   \n",
       "min           0.000000          0.000000           0.000000         0.000000   \n",
       "25%          87.000000         24.430000         166.375000        87.000000   \n",
       "50%         100.000000         30.620000         201.000000       100.000000   \n",
       "75%         113.000000         36.750000         234.100000       114.000000   \n",
       "max         165.000000         59.760000         363.700000       170.000000   \n",
       "\n",
       "       total_eve_charge  total_night_minutes  total_night_calls  \\\n",
       "count       5000.000000          5000.000000        5000.000000   \n",
       "mean          17.054322           200.391620          99.919200   \n",
       "std            4.296843            50.527789          19.958686   \n",
       "min            0.000000             0.000000           0.000000   \n",
       "25%           14.140000           166.900000          87.000000   \n",
       "50%           17.090000           200.400000         100.000000   \n",
       "75%           19.900000           234.700000         113.000000   \n",
       "max           30.910000           395.000000         175.000000   \n",
       "\n",
       "       total_night_charge  total_intl_minutes  total_intl_calls  \\\n",
       "count         5000.000000         5000.000000       5000.000000   \n",
       "mean             9.017732           10.261780          4.435200   \n",
       "std              2.273763            2.761396          2.456788   \n",
       "min              0.000000            0.000000          0.000000   \n",
       "25%              7.510000            8.500000          3.000000   \n",
       "50%              9.020000           10.300000          4.000000   \n",
       "75%             10.560000           12.000000          6.000000   \n",
       "max             17.770000           20.000000         20.000000   \n",
       "\n",
       "       total_intl_charge  number_customer_service_calls  \n",
       "count        5000.000000                    5000.000000  \n",
       "mean            2.771196                       1.570400  \n",
       "std             0.745514                       1.306363  \n",
       "min             0.000000                       0.000000  \n",
       "25%             2.300000                       1.000000  \n",
       "50%             2.780000                       1.000000  \n",
       "75%             3.240000                       2.000000  \n",
       "max             5.400000                       9.000000  "
      ]
     },
     "execution_count": 51,
     "metadata": {},
     "output_type": "execute_result"
    }
   ],
   "source": [
    "df.describe()"
   ]
  },
  {
   "cell_type": "markdown",
   "metadata": {},
   "source": [
    "Chart for Yes/No distribution by state"
   ]
  },
  {
   "cell_type": "code",
   "execution_count": 52,
   "metadata": {},
   "outputs": [
    {
     "data": {
      "text/plain": [
       "<matplotlib.axes._subplots.AxesSubplot at 0x1da315b7c50>"
      ]
     },
     "execution_count": 52,
     "metadata": {},
     "output_type": "execute_result"
    },
    {
     "data": {
      "image/png": "[encoded data removed]",
      "text/plain": [
       "<Figure size 2160x720 with 1 Axes>"
      ]
     },
     "metadata": {
      "needs_background": "light"
     },
     "output_type": "display_data"
    }
   ],
   "source": [
    "df.groupby([\"state\", \"churn\"]).size().unstack().plot(kind='bar', stacked=True, figsize=(30,10)) "
   ]
  },
  {
   "cell_type": "markdown",
   "metadata": {},
   "source": [
    "Chart of Churn distribution by State"
   ]
  },
  {
   "cell_type": "code",
   "execution_count": 126,
   "metadata": {},
   "outputs": [],
   "source": [
    "df_percentage = df_train[[\"state\", 'churn']]\n",
    "graph = pd.crosstab(df_percentage.state,df_percentage.churn).reset_index()\n",
    "graph['sum'] = graph['no'] + graph['yes']\n",
    "graph['%_no'] = graph['no'] / graph['sum']\n",
    "graph['%_yes'] = graph['yes'] / graph['sum']\n",
    "graph = graph.round({'%_yes': 2, '%_no': 2})"
   ]
  },
  {
   "cell_type": "code",
   "execution_count": 157,
   "metadata": {},
   "outputs": [
    {
     "data": {
      "image/png": "[encoded data removed]",
      "text/plain": [
       "<Figure size 1440x720 with 1 Axes>"
      ]
     },
     "metadata": {
      "needs_background": "light"
     },
     "output_type": "display_data"
    }
   ],
   "source": [
    "# set width of bar \n",
    "barWidth = 0.4\n",
    "fig = plt.subplots(figsize =(20, 10)) \n",
    "   \n",
    "# set height of bar \n",
    "Yes = graph['%_yes']\n",
    "No = graph['%_no']\n",
    "   \n",
    "# Set position of bar on X axis \n",
    "br1 = np.arange(len(graph['state'])) \n",
    "br2 = [x + barWidth for x in br1] \n",
    "   \n",
    "# Make the plot \n",
    "plt.bar(br1, Yes, color ='r', width = barWidth, \n",
    "        edgecolor ='grey', label ='Yes') \n",
    "plt.bar(br2, No, color ='b', width = barWidth, \n",
    "        edgecolor ='grey', label ='No') \n",
    "   \n",
    "# Adding Xticks  \n",
    "plt.xlabel('State', fontweight ='bold') \n",
    "plt.ylabel('%', fontweight ='bold') \n",
    "plt.xticks([r + barWidth for r in range(len(graph['state']))], \n",
    "           graph['state']) \n",
    "   \n",
    "plt.show() "
   ]
  },
  {
   "cell_type": "markdown",
   "metadata": {},
   "source": [
    "## Encoding"
   ]
  },
  {
   "cell_type": "code",
   "execution_count": 53,
   "metadata": {},
   "outputs": [],
   "source": [
    "# Creating encoder\n",
    "lb = LabelEncoder()\n",
    "\n",
    "# Applying encoder in the variables with string values\n",
    "df['international_plan'] = lb.fit_transform(df['international_plan'])\n",
    "df['voice_mail_plan'] = lb.fit_transform(df['voice_mail_plan'])\n",
    "df['churn'] = lb.fit_transform(df['churn'])\n",
    "df['area_code'] = lb.fit_transform(df['area_code'])\n",
    "df['state'] = lb.fit_transform(df['state'])\n",
    "\n",
    "# Changing type of the variables\n",
    "df[\"account_length\"] = df[\"account_length\"].astype('int64')\n",
    "df[\"area_code\"] = df[\"area_code\"].astype('int64')\n",
    "df[\"international_plan\"] = df[\"international_plan\"].astype('int64')\n",
    "df[\"voice_mail_plan\"] = df[\"voice_mail_plan\"].astype('int64')\n",
    "df[\"churn\"] = df[\"churn\"].astype('category')\n",
    "df[\"state\"] = df[\"state\"].astype('int64')"
   ]
  },
  {
   "cell_type": "code",
   "execution_count": 55,
   "metadata": {},
   "outputs": [
    {
     "data": {
      "text/plain": [
       "state                               int64\n",
       "account_length                      int64\n",
       "area_code                           int64\n",
       "international_plan                  int64\n",
       "voice_mail_plan                     int64\n",
       "number_vmail_messages               int64\n",
       "total_day_minutes                 float64\n",
       "total_day_calls                     int64\n",
       "total_day_charge                  float64\n",
       "total_eve_minutes                 float64\n",
       "total_eve_calls                     int64\n",
       "total_eve_charge                  float64\n",
       "total_night_minutes               float64\n",
       "total_night_calls                   int64\n",
       "total_night_charge                float64\n",
       "total_intl_minutes                float64\n",
       "total_intl_calls                    int64\n",
       "total_intl_charge                 float64\n",
       "number_customer_service_calls       int64\n",
       "churn                            category\n",
       "type                               object\n",
       "dtype: object"
      ]
     },
     "execution_count": 55,
     "metadata": {},
     "output_type": "execute_result"
    }
   ],
   "source": [
    "df.dtypes"
   ]
  },
  {
   "cell_type": "markdown",
   "metadata": {},
   "source": [
    "## Correlation"
   ]
  },
  {
   "cell_type": "code",
   "execution_count": 56,
   "metadata": {},
   "outputs": [
    {
     "data": {
      "text/plain": [
       "<matplotlib.axes._subplots.AxesSubplot at 0x1da34a1ac50>"
      ]
     },
     "execution_count": 56,
     "metadata": {},
     "output_type": "execute_result"
    },
    {
     "data": {
      "image/png": "[encoded data removed]",
      "text/plain": [
       "<Figure size 1080x720 with 2 Axes>"
      ]
     },
     "metadata": {
      "needs_background": "light"
     },
     "output_type": "display_data"
    }
   ],
   "source": [
    "plt.figure(figsize = (15,10))\n",
    "sns.heatmap(df.corr(), cmap=\"Blues\", vmax = 1., square = True)"
   ]
  },
  {
   "cell_type": "markdown",
   "metadata": {},
   "source": [
    "## Feature Selection"
   ]
  },
  {
   "cell_type": "code",
   "execution_count": 57,
   "metadata": {},
   "outputs": [
    {
     "name": "stdout",
     "output_type": "stream",
     "text": [
      "Index(['state', 'account_length', 'area_code', 'international_plan',\n",
      "       'voice_mail_plan', 'number_vmail_messages', 'total_day_minutes',\n",
      "       'total_day_calls', 'total_day_charge', 'total_eve_minutes',\n",
      "       'total_eve_calls', 'total_eve_charge', 'total_night_minutes',\n",
      "       'total_night_calls', 'total_night_charge', 'total_intl_minutes',\n",
      "       'total_intl_calls', 'total_intl_charge',\n",
      "       'number_customer_service_calls', 'churn'],\n",
      "      dtype='object')\n",
      "[0.03217237 0.03160265 0.02201218 0.07244719 0.02264048 0.01490388\n",
      " 0.12632542 0.03326352 0.12599929 0.05749919 0.03197776 0.05764195\n",
      " 0.03775311 0.03126784 0.03856681 0.04555959 0.05262892 0.04425369\n",
      " 0.12148415]\n"
     ]
    }
   ],
   "source": [
    "# Feature Selection using Extra Trees Classifier\n",
    "\n",
    "array = df.values\n",
    "\n",
    "X = array[:,0:19]\n",
    "y = array[:,19]\n",
    "y = y.astype('int')\n",
    "\n",
    "# Model - Feature Selection\n",
    "modelo = ExtraTreesClassifier()\n",
    "modelo.fit(X, y)\n",
    "\n",
    "# Print results\n",
    "print(df.columns[0:20])\n",
    "print(modelo.feature_importances_)"
   ]
  },
  {
   "cell_type": "code",
   "execution_count": 61,
   "metadata": {},
   "outputs": [],
   "source": [
    "# Removing variables before fit the model\n",
    "new_df = df.drop(['area_code', 'voice_mail_plan', 'number_vmail_messages', 'state', 'international_plan', \"type\"], axis=1)\n",
    "\n",
    "#Separating target variable\n",
    "df_target = new_df['churn']\n",
    "df2 = new_df.drop(['churn'], axis=1)"
   ]
  },
  {
   "cell_type": "markdown",
   "metadata": {},
   "source": [
    "## Normalizing data"
   ]
  },
  {
   "cell_type": "code",
   "execution_count": 68,
   "metadata": {},
   "outputs": [],
   "source": [
    "#Normalizing df data\n",
    "df_norm = (df2 - df2.mean()) / (df2.max() - df2.min())\n",
    "df_norm['state'] = df['state']\n",
    "df_norm['international_plan'] = df['international_plan']\n",
    "df_norm['type'] = df['type']\n",
    "df_norm['churn'] = new_df['churn']"
   ]
  },
  {
   "cell_type": "code",
   "execution_count": 70,
   "metadata": {},
   "outputs": [],
   "source": [
    "#Split df into train and test data\n",
    "df_test_norm, df_train_norm = df_norm[df_norm[\"type\"].eq(\"test\")], df_norm[df_norm[\"type\"].eq(\"train\")]\n",
    "df_train_norm = df_train_norm.drop([\"type\"], axis=1)\n",
    "df_test_norm = df_test_norm.drop([\"type\"], axis=1)"
   ]
  },
  {
   "cell_type": "markdown",
   "metadata": {},
   "source": [
    "## Analysing if the target variable is balanced"
   ]
  },
  {
   "cell_type": "markdown",
   "metadata": {},
   "source": [
    "Balance data for train data"
   ]
  },
  {
   "cell_type": "code",
   "execution_count": 87,
   "metadata": {},
   "outputs": [
    {
     "data": {
      "image/png": "[encoded data removed]",
      "text/plain": [
       "<Figure size 576x288 with 1 Axes>"
      ]
     },
     "metadata": {
      "needs_background": "light"
     },
     "output_type": "display_data"
    }
   ],
   "source": [
    "#Check if variable target \"Churn\" is balanced\n",
    "plt.figure(figsize=(8,4))\n",
    "sns.countplot(x=\"churn\", data = df_train_norm, color = 'b')\n",
    "plt.ylabel('Count', fontsize=12)\n",
    "plt.xlabel('Churn Train', fontsize=12)\n",
    "plt.xticks(rotation='vertical')\n",
    "plt.title(\"Churn Quantity\", fontsize=15)\n",
    "plt.show()"
   ]
  },
  {
   "cell_type": "markdown",
   "metadata": {},
   "source": [
    "As we can see, the \"Churn\" is not balanced. Let's balance train data"
   ]
  },
  {
   "cell_type": "code",
   "execution_count": 81,
   "metadata": {},
   "outputs": [],
   "source": [
    "from imblearn.over_sampling import SMOTE\n",
    "\n",
    "#Balancing df_train\n",
    "X1 = df_train_norm.iloc[:, 0:16]\n",
    "y1 = df_train_norm.iloc[:, 16]\n",
    "\n",
    "# Creating SMOTE\n",
    "smote_bal = SMOTE(random_state = 100)\n",
    "X_res_train, y_res_train = smote_bal.fit_resample(X1, y1)"
   ]
  },
  {
   "cell_type": "code",
   "execution_count": 88,
   "metadata": {},
   "outputs": [
    {
     "data": {
      "image/png": "[encoded data removed]",
      "text/plain": [
       "<Figure size 432x288 with 1 Axes>"
      ]
     },
     "metadata": {
      "needs_background": "light"
     },
     "output_type": "display_data"
    }
   ],
   "source": [
    "# Plot \n",
    "sns.countplot(y_res_train, palette = \"OrRd\")\n",
    "plt.box(False)\n",
    "plt.xlabel('Churn Train', fontsize = 11)\n",
    "plt.ylabel('Count', fontsize = 11)\n",
    "plt.title('Churn Quantity\\n')\n",
    "plt.show()"
   ]
  },
  {
   "cell_type": "markdown",
   "metadata": {},
   "source": [
    "Balance data for test data"
   ]
  },
  {
   "cell_type": "code",
   "execution_count": 89,
   "metadata": {},
   "outputs": [
    {
     "data": {
      "image/png": "[encoded data removed]",
      "text/plain": [
       "<Figure size 576x288 with 1 Axes>"
      ]
     },
     "metadata": {
      "needs_background": "light"
     },
     "output_type": "display_data"
    }
   ],
   "source": [
    "#Check if variable target \"Churn\" is balanced\n",
    "plt.figure(figsize=(8,4))\n",
    "sns.countplot(x=\"churn\", data = df_test_norm, color = 'g')\n",
    "plt.ylabel('Count', fontsize=12)\n",
    "plt.xlabel('Churn Test', fontsize=12)\n",
    "plt.xticks(rotation='vertical')\n",
    "plt.title(\"Churn Quantity\", fontsize=15)\n",
    "plt.show()"
   ]
  },
  {
   "cell_type": "markdown",
   "metadata": {},
   "source": [
    "As we can see, the \"Churn\" is not balanced. Let's balance test data"
   ]
  },
  {
   "cell_type": "code",
   "execution_count": 84,
   "metadata": {},
   "outputs": [],
   "source": [
    "#Balancing df_test\n",
    "X2 = df_test_norm.iloc[:, 0:16]\n",
    "y2 = df_test_norm.iloc[:, 16]\n",
    "\n",
    "# Creating SMOTE\n",
    "smote_bal2 = SMOTE(random_state = 100)\n",
    "X_res_test, y_res_test = smote_bal2.fit_resample(X2, y2)"
   ]
  },
  {
   "cell_type": "code",
   "execution_count": 90,
   "metadata": {},
   "outputs": [
    {
     "data": {
      "image/png": "[encoded data removed]",
      "text/plain": [
       "<Figure size 432x288 with 1 Axes>"
      ]
     },
     "metadata": {
      "needs_background": "light"
     },
     "output_type": "display_data"
    }
   ],
   "source": [
    "# Plot \n",
    "sns.countplot(y_res_test, palette = \"RdBu\")\n",
    "plt.box(False)\n",
    "plt.xlabel('Churn Test', fontsize = 11)\n",
    "plt.ylabel('Count', fontsize = 11)\n",
    "plt.title('Churn Quantity\\n')\n",
    "plt.show()"
   ]
  },
  {
   "cell_type": "code",
   "execution_count": 91,
   "metadata": {},
   "outputs": [],
   "source": [
    "# Transforming dataset into array\n",
    "df_train_array = X_res_train.values\n",
    "df_train_target_array = y_res_train.values\n",
    "\n",
    "df_test_array = X_res_test.values\n",
    "df_test_target_array = y_res_test.values"
   ]
  },
  {
   "cell_type": "markdown",
   "metadata": {},
   "source": [
    "## Predictive Analysis"
   ]
  },
  {
   "cell_type": "code",
   "execution_count": 92,
   "metadata": {},
   "outputs": [],
   "source": [
    "# Defining values to the numbre of folds\n",
    "num_folds = 10\n",
    "seed = 7\n",
    "\n",
    "# Separating data in folds\n",
    "kfold = KFold(num_folds, True, random_state = seed)\n",
    "\n",
    "# Definindo o número de trees\n",
    "num_trees = 100"
   ]
  },
  {
   "cell_type": "markdown",
   "metadata": {},
   "source": [
    "1) Logistic Regression"
   ]
  },
  {
   "cell_type": "code",
   "execution_count": 93,
   "metadata": {},
   "outputs": [
    {
     "name": "stdout",
     "output_type": "stream",
     "text": [
      "Acurácia: 76.246\n"
     ]
    }
   ],
   "source": [
    "# Creating the model\n",
    "modelo_v1 = LogisticRegression()\n",
    "\n",
    "# Cross Validation\n",
    "results_v1 = cross_val_score(modelo_v1, df_train_array, df_train_target_array, cv = kfold)\n",
    "\n",
    "# Print\n",
    "print(\"Acurácia: %.3f\" % (results_v1.mean() * 100))"
   ]
  },
  {
   "cell_type": "markdown",
   "metadata": {},
   "source": [
    "2) CART (Classification and Regression Trees)"
   ]
  },
  {
   "cell_type": "code",
   "execution_count": 94,
   "metadata": {},
   "outputs": [
    {
     "name": "stdout",
     "output_type": "stream",
     "text": [
      "Acurácia: 88.228\n"
     ]
    }
   ],
   "source": [
    "# Creating the model\n",
    "modelo_v2 = DecisionTreeClassifier()\n",
    "\n",
    "# Cross Validation\n",
    "results_v2 = cross_val_score(modelo_v2, df_train_array, df_train_target_array, cv = kfold)\n",
    "\n",
    "# Print\n",
    "print(\"Acurácia: %.3f\" % (results_v2.mean() * 100))"
   ]
  },
  {
   "cell_type": "markdown",
   "metadata": {},
   "source": [
    "3) Bagged Decision Trees"
   ]
  },
  {
   "cell_type": "code",
   "execution_count": 95,
   "metadata": {},
   "outputs": [
    {
     "name": "stdout",
     "output_type": "stream",
     "text": [
      "Acurácia: 92.772\n"
     ]
    }
   ],
   "source": [
    "# Create unitary model\n",
    "cart = DecisionTreeClassifier()\n",
    "\n",
    "# Creating the model\n",
    "modelo_v4 = BaggingClassifier(base_estimator = cart, n_estimators = num_trees, random_state = seed)\n",
    "\n",
    "# Cross Validation\n",
    "results_v4 = cross_val_score(modelo_v4, df_train_array, df_train_target_array, cv = kfold)\n",
    "\n",
    "# Print\n",
    "print(\"Acurácia: %.3f\" % (results_v4.mean() * 100))"
   ]
  },
  {
   "cell_type": "markdown",
   "metadata": {},
   "source": [
    "4) Random Forest"
   ]
  },
  {
   "cell_type": "code",
   "execution_count": 96,
   "metadata": {},
   "outputs": [
    {
     "name": "stdout",
     "output_type": "stream",
     "text": [
      "Acurácia: 92.018\n"
     ]
    }
   ],
   "source": [
    "max_features = 3\n",
    "\n",
    "# Creating the model\n",
    "modelo_v5 = RandomForestClassifier(n_estimators = num_trees, max_features = max_features)\n",
    "\n",
    "# Cross Validation\n",
    "results_v5 = cross_val_score(modelo_v5, df_train_array, df_train_target_array, cv = kfold)\n",
    "\n",
    "# Print\n",
    "print(\"Acurácia: %.3f\" % (results_v5.mean() * 100))"
   ]
  },
  {
   "cell_type": "markdown",
   "metadata": {},
   "source": [
    "5) Gradient Boosting"
   ]
  },
  {
   "cell_type": "code",
   "execution_count": 97,
   "metadata": {},
   "outputs": [
    {
     "name": "stdout",
     "output_type": "stream",
     "text": [
      "Acurácia: 93.333\n"
     ]
    }
   ],
   "source": [
    "# Creating the model\n",
    "modelo_v7 = GradientBoostingClassifier(n_estimators = num_trees, random_state = seed)\n",
    "\n",
    "# Cross Validation\n",
    "results_v7 = cross_val_score(modelo_v7, df_train_array, df_train_target_array, cv = kfold)\n",
    "\n",
    "# Print\n",
    "print(\"Acurácia: %.3f\" % (results_v7.mean() * 100))"
   ]
  },
  {
   "cell_type": "markdown",
   "metadata": {},
   "source": [
    "6) Adaboost"
   ]
  },
  {
   "cell_type": "code",
   "execution_count": 98,
   "metadata": {},
   "outputs": [
    {
     "name": "stdout",
     "output_type": "stream",
     "text": [
      "Acurácia: 87.246\n"
     ]
    }
   ],
   "source": [
    "# Creating the model\n",
    "modelo_v8 = AdaBoostClassifier(n_estimators = num_trees, random_state = seed)\n",
    "\n",
    "# Cross Validation\n",
    "results_v8 = cross_val_score(modelo_v8, df_train_array, df_train_target_array, cv = kfold)\n",
    "\n",
    "# Print\n",
    "print(\"Acurácia: %.3f\" % (results_v8.mean() * 100))"
   ]
  },
  {
   "cell_type": "markdown",
   "metadata": {},
   "source": [
    "7) XGBoost"
   ]
  },
  {
   "cell_type": "code",
   "execution_count": 99,
   "metadata": {},
   "outputs": [
    {
     "name": "stdout",
     "output_type": "stream",
     "text": [
      "Acurácia: 95.509\n"
     ]
    }
   ],
   "source": [
    "# Creating the model\n",
    "modelo_v9 = XGBClassifier()\n",
    "\n",
    "# Cross Validation\n",
    "results_v9 = cross_val_score(modelo_v9, df_train_array, df_train_target_array, cv = kfold)\n",
    "\n",
    "# Print\n",
    "print(\"Acurácia: %.3f\" % (results_v9.mean() * 100))"
   ]
  },
  {
   "cell_type": "code",
   "execution_count": 100,
   "metadata": {},
   "outputs": [
    {
     "name": "stdout",
     "output_type": "stream",
     "text": [
      "LR: 0.718772 (0.030820)\n",
      "CART: 0.874737 (0.020508)\n",
      "Decision Trees: 0.872105 (0.019917)\n",
      "RF: 0.907719 (0.017336)\n",
      "GB: 0.930877 (0.021859)\n",
      "AB: 0.874035 (0.027109)\n",
      "XGB: 0.952807 (0.024680)\n"
     ]
    },
    {
     "data": {
      "image/png": "[encoded data removed]",
      "text/plain": [
       "<Figure size 432x288 with 1 Axes>"
      ]
     },
     "metadata": {
      "needs_background": "light"
     },
     "output_type": "display_data"
    }
   ],
   "source": [
    "# Preparing model list\n",
    "models = []\n",
    "models.append(('LR', LogisticRegression()))\n",
    "models.append(('CART', DecisionTreeClassifier()))\n",
    "models.append(('Decision Trees', DecisionTreeClassifier()))\n",
    "models.append(('RF', RandomForestClassifier()))\n",
    "models.append(('GB', GradientBoostingClassifier()))\n",
    "models.append(('AB', AdaBoostClassifier()))\n",
    "models.append(('XGB', XGBClassifier()))\n",
    "\n",
    "# Evaluating each model in one loop\n",
    "results_total = []\n",
    "names = []\n",
    "\n",
    "for name, model_total in models:\n",
    "    kfold = KFold(n_splits = num_folds, random_state = seed)\n",
    "    cv_results = cross_val_score(model_total, df_train_array, df_train_target_array, cv = kfold, scoring = 'accuracy')\n",
    "    results_total.append(cv_results)\n",
    "    names.append(name)\n",
    "    msg = \"%s: %f (%f)\" % (name, cv_results.mean(), cv_results.std())\n",
    "    print(msg)\n",
    "\n",
    "# Boxplot to compare the algorithms\n",
    "fig = plt.figure()\n",
    "fig.suptitle('Comparing Classification Algorithms')\n",
    "ax = fig.add_subplot(111)\n",
    "plt.boxplot(results_total)\n",
    "ax.set_xticklabels(names)\n",
    "plt.show()"
   ]
  },
  {
   "cell_type": "markdown",
   "metadata": {},
   "source": [
    "## Testing Data"
   ]
  },
  {
   "cell_type": "code",
   "execution_count": 101,
   "metadata": {},
   "outputs": [
    {
     "name": "stdout",
     "output_type": "stream",
     "text": [
      "Acurácia: 70.302\n"
     ]
    }
   ],
   "source": [
    "# Using model \"Logistic Regression\"\n",
    "y_pred_1 = cross_val_score(modelo_v1, df_test_array, df_test_target_array, cv = kfold)\n",
    "\n",
    "# Print do resultado\n",
    "print(\"Acurácia: %.3f\" % (y_pred_1.mean() * 100))"
   ]
  },
  {
   "cell_type": "code",
   "execution_count": 102,
   "metadata": {},
   "outputs": [
    {
     "name": "stdout",
     "output_type": "stream",
     "text": [
      "Acurácia: 87.979\n"
     ]
    }
   ],
   "source": [
    "# Using model \"CART\"\n",
    "y_pred_2 = cross_val_score(modelo_v2, df_test_array, df_test_target_array, cv = kfold)\n",
    "\n",
    "# Print\n",
    "print(\"Acurácia: %.3f\" % (y_pred_2.mean() * 100))"
   ]
  },
  {
   "cell_type": "code",
   "execution_count": 103,
   "metadata": {},
   "outputs": [
    {
     "name": "stdout",
     "output_type": "stream",
     "text": [
      "Acurácia: 92.273\n"
     ]
    }
   ],
   "source": [
    "# Using model \"Bagged Decision Trees\"\n",
    "y_pred_3 = cross_val_score(modelo_v4, df_test_array, df_test_target_array, cv = kfold)\n",
    "\n",
    "# Print\n",
    "print(\"Acurácia: %.3f\" % (y_pred_3.mean() * 100))"
   ]
  },
  {
   "cell_type": "code",
   "execution_count": 104,
   "metadata": {},
   "outputs": [
    {
     "name": "stdout",
     "output_type": "stream",
     "text": [
      "Acurácia: 91.127\n"
     ]
    }
   ],
   "source": [
    "# Using model \"Random Forest\"\n",
    "y_pred_4 = cross_val_score(modelo_v5, df_test_array, df_test_target_array, cv = kfold)\n",
    "\n",
    "# Print\n",
    "print(\"Acurácia: %.3f\" % (y_pred_4.mean() * 100))"
   ]
  },
  {
   "cell_type": "code",
   "execution_count": 105,
   "metadata": {},
   "outputs": [
    {
     "name": "stdout",
     "output_type": "stream",
     "text": [
      "Acurácia: 93.142\n"
     ]
    }
   ],
   "source": [
    "# Using model \"Gradient Boosting\"\n",
    "y_pred_5 = cross_val_score(modelo_v7, df_test_array, df_test_target_array, cv = kfold)\n",
    "\n",
    "# Print\n",
    "print(\"Acurácia: %.3f\" % (y_pred_5.mean() * 100))"
   ]
  },
  {
   "cell_type": "code",
   "execution_count": 106,
   "metadata": {},
   "outputs": [
    {
     "name": "stdout",
     "output_type": "stream",
     "text": [
      "Acurácia: 83.471\n"
     ]
    }
   ],
   "source": [
    "# Using model \"AdaBoost\"\n",
    "y_pred_6 = cross_val_score(modelo_v8, df_test_array, df_test_target_array, cv = kfold)\n",
    "\n",
    "# Print\n",
    "print(\"Acurácia: %.3f\" % (y_pred_6.mean() * 100))"
   ]
  },
  {
   "cell_type": "code",
   "execution_count": 107,
   "metadata": {},
   "outputs": [
    {
     "name": "stdout",
     "output_type": "stream",
     "text": [
      "Acurácia: 95.776\n"
     ]
    }
   ],
   "source": [
    "# Using model \"XGBoost\"\n",
    "y_pred_7 = cross_val_score(modelo_v9, df_test_array, df_test_target_array, cv = kfold)\n",
    "\n",
    "# Print\n",
    "print(\"Acurácia: %.3f\" % (y_pred_7.mean() * 100))"
   ]
  },
  {
   "cell_type": "markdown",
   "metadata": {},
   "source": [
    "### Conclusion"
   ]
  },
  {
   "cell_type": "markdown",
   "metadata": {},
   "source": [
    "- The best models for this dataset are Random Forest and XGBoost. It has an accurancy of 95%"
   ]
  }
 ],
 "metadata": {
  "kernelspec": {
   "display_name": "Python 3",
   "language": "python",
   "name": "python3"
  },
  "language_info": {
   "codemirror_mode": {
    "name": "ipython",
    "version": 3
   },
   "file_extension": ".py",
   "mimetype": "text/x-python",
   "name": "python",
   "nbconvert_exporter": "python",
   "pygments_lexer": "ipython3",
   "version": "3.6.5"
  }
 },
 "nbformat": 4,
 "nbformat_minor": 4
}
